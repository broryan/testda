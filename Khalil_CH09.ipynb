{
 "cells": [
  {
   "cell_type": "markdown",
   "id": "f2736653-8b65-43f2-a46d-c511ca2b595a",
   "metadata": {},
   "source": [
    "# Chapter 9"
   ]
  },
  {
   "cell_type": "markdown",
   "id": "c06703e7-dd63-4a39-a29b-70d78193002e",
   "metadata": {},
   "source": [
    "## 9.1.2"
   ]
  },
  {
   "cell_type": "code",
   "execution_count": null,
   "id": "3ddc596e-24f3-4bfa-ada0-47d3263f1d3f",
   "metadata": {},
   "outputs": [],
   "source": [
    "import statsmodels.api as sm\n",
    "import pandas as pd\n",
    "housing_prices = pd.read_csv(\"housing_prices.csv\")    #A\n",
    "\n",
    "X = housing_prices[[\"sq_footage\", \"n_bedrooms\"]]\n",
    "y = housing_prices[\"price\"]    #B\n",
    "X = sm.add_constant(X)    #C \n",
    "\n",
    "model = sm.OLS(y, X).fit()    #D\n",
    "print(model.summary())\n",
    "\n",
    "#A Import statsmodels, pandas, and the dataframe\n",
    "#B Create an X and y variable for the predictors and outcome, respectively\n",
    "#C Add a constant representing the y-intercept\n",
    "#D Print the model results"
   ]
  },
  {
   "cell_type": "code",
   "execution_count": null,
   "id": "cbbca426-9086-4bf7-ae08-eb552cc16cd5",
   "metadata": {},
   "outputs": [],
   "source": [
    "housing_prices[\"residuals\"] = model.resid\n",
    "housing_prices[\"predicted_values\"] = model.predict()    #A\n",
    "\n",
    "plt.scatter(\n",
    "    housing_prices[\"predicted_values\"],\n",
    "    housing_prices[\"residuals\"]\n",
    ")    #B\n",
    "plt.axhline(y=0, color= \"black\", linestyle=\"-\")    #C\n",
    "\n",
    "#A Save the residuals and predicted values as new columns in the dataframe\n",
    "#B Create a scatterplot of the predicted values against the residuals\n",
    "#C Add a horizontal line at 0 to better display the residuals centered around 0"
   ]
  },
  {
   "cell_type": "code",
   "execution_count": null,
   "id": "c00000f6-77af-4eea-b0a1-db3b735e1252",
   "metadata": {},
   "outputs": [],
   "source": [
    "plt.hist(housing_prices[\"residuals\"], bins=30)    #A\n",
    "#A Plot a histogram of residuals from the housing prices model"
   ]
  },
  {
   "cell_type": "markdown",
   "id": "ad21deae-0f9c-4ade-b882-84f00a928840",
   "metadata": {},
   "source": [
    "# 9.2"
   ]
  },
  {
   "cell_type": "code",
   "execution_count": 5,
   "id": "15fce013-f1c8-4026-bc29-0f6f2bdcd039",
   "metadata": {},
   "outputs": [
    {
     "data": {
      "text/html": [
       "<div>\n",
       "<style scoped>\n",
       "    .dataframe tbody tr th:only-of-type {\n",
       "        vertical-align: middle;\n",
       "    }\n",
       "\n",
       "    .dataframe tbody tr th {\n",
       "        vertical-align: top;\n",
       "    }\n",
       "\n",
       "    .dataframe thead th {\n",
       "        text-align: right;\n",
       "    }\n",
       "</style>\n",
       "<table border=\"1\" class=\"dataframe\">\n",
       "  <thead>\n",
       "    <tr style=\"text-align: right;\">\n",
       "      <th></th>\n",
       "      <th>high_temp</th>\n",
       "      <th>low_temp</th>\n",
       "      <th>humidity</th>\n",
       "      <th>wind_speed</th>\n",
       "      <th>precip</th>\n",
       "      <th>rat_sightings</th>\n",
       "    </tr>\n",
       "  </thead>\n",
       "  <tbody>\n",
       "    <tr>\n",
       "      <th>high_temp</th>\n",
       "      <td>1.00</td>\n",
       "      <td>0.96</td>\n",
       "      <td>0.15</td>\n",
       "      <td>-0.23</td>\n",
       "      <td>-0.04</td>\n",
       "      <td>0.60</td>\n",
       "    </tr>\n",
       "    <tr>\n",
       "      <th>low_temp</th>\n",
       "      <td>0.96</td>\n",
       "      <td>1.00</td>\n",
       "      <td>0.18</td>\n",
       "      <td>-0.26</td>\n",
       "      <td>-0.03</td>\n",
       "      <td>0.62</td>\n",
       "    </tr>\n",
       "    <tr>\n",
       "      <th>humidity</th>\n",
       "      <td>0.15</td>\n",
       "      <td>0.18</td>\n",
       "      <td>1.00</td>\n",
       "      <td>0.03</td>\n",
       "      <td>0.23</td>\n",
       "      <td>0.15</td>\n",
       "    </tr>\n",
       "    <tr>\n",
       "      <th>wind_speed</th>\n",
       "      <td>-0.23</td>\n",
       "      <td>-0.26</td>\n",
       "      <td>0.03</td>\n",
       "      <td>1.00</td>\n",
       "      <td>0.21</td>\n",
       "      <td>-0.24</td>\n",
       "    </tr>\n",
       "    <tr>\n",
       "      <th>precip</th>\n",
       "      <td>-0.04</td>\n",
       "      <td>-0.03</td>\n",
       "      <td>0.23</td>\n",
       "      <td>0.21</td>\n",
       "      <td>1.00</td>\n",
       "      <td>-0.03</td>\n",
       "    </tr>\n",
       "    <tr>\n",
       "      <th>rat_sightings</th>\n",
       "      <td>0.60</td>\n",
       "      <td>0.62</td>\n",
       "      <td>0.15</td>\n",
       "      <td>-0.24</td>\n",
       "      <td>-0.03</td>\n",
       "      <td>1.00</td>\n",
       "    </tr>\n",
       "  </tbody>\n",
       "</table>\n",
       "</div>"
      ],
      "text/plain": [
       "               high_temp  low_temp  humidity  wind_speed  precip  \\\n",
       "high_temp           1.00      0.96      0.15       -0.23   -0.04   \n",
       "low_temp            0.96      1.00      0.18       -0.26   -0.03   \n",
       "humidity            0.15      0.18      1.00        0.03    0.23   \n",
       "wind_speed         -0.23     -0.26      0.03        1.00    0.21   \n",
       "precip             -0.04     -0.03      0.23        0.21    1.00   \n",
       "rat_sightings       0.60      0.62      0.15       -0.24   -0.03   \n",
       "\n",
       "               rat_sightings  \n",
       "high_temp               0.60  \n",
       "low_temp                0.62  \n",
       "humidity                0.15  \n",
       "wind_speed             -0.24  \n",
       "precip                 -0.03  \n",
       "rat_sightings           1.00  "
      ]
     },
     "execution_count": 5,
     "metadata": {},
     "output_type": "execute_result"
    }
   ],
   "source": [
    "import pandas as pd    #A\n",
    "\n",
    "rats = pd.read_csv(\"rat_sightings.csv\")    #B\n",
    "weather = pd.read_csv(\"weather.csv\")\n",
    "\n",
    "rats_weather = pd.merge(\n",
    "    weather, \n",
    "    rats, \n",
    "    on=\"day\", \n",
    "    how=\"left\"\n",
    ")  #C\n",
    "\n",
    "rats_weather.corr().round(2)    #D\n",
    "\n",
    "#A Import pandas\n",
    "#B Import the rats and weather dataframes \n",
    "#C Merge the dataframes and fill in missing values\n",
    "#D Generate correlations"
   ]
  },
  {
   "cell_type": "code",
   "execution_count": 12,
   "id": "23b89a8a-57d9-41a4-8850-39e95247cad2",
   "metadata": {},
   "outputs": [
    {
     "data": {
      "text/html": [
       "<div>\n",
       "<style scoped>\n",
       "    .dataframe tbody tr th:only-of-type {\n",
       "        vertical-align: middle;\n",
       "    }\n",
       "\n",
       "    .dataframe tbody tr th {\n",
       "        vertical-align: top;\n",
       "    }\n",
       "\n",
       "    .dataframe thead th {\n",
       "        text-align: right;\n",
       "    }\n",
       "</style>\n",
       "<table border=\"1\" class=\"dataframe\">\n",
       "  <thead>\n",
       "    <tr style=\"text-align: right;\">\n",
       "      <th></th>\n",
       "      <th>day</th>\n",
       "      <th>high_temp</th>\n",
       "      <th>low_temp</th>\n",
       "      <th>humidity</th>\n",
       "      <th>wind_speed</th>\n",
       "      <th>precip</th>\n",
       "      <th>rat_sightings</th>\n",
       "      <th>dow</th>\n",
       "      <th>month_num</th>\n",
       "    </tr>\n",
       "  </thead>\n",
       "  <tbody>\n",
       "    <tr>\n",
       "      <th>0</th>\n",
       "      <td>2018-01-01</td>\n",
       "      <td>19.0</td>\n",
       "      <td>8.0</td>\n",
       "      <td>67.0</td>\n",
       "      <td>22.0</td>\n",
       "      <td>0.00</td>\n",
       "      <td>15</td>\n",
       "      <td>0</td>\n",
       "      <td>1</td>\n",
       "    </tr>\n",
       "    <tr>\n",
       "      <th>1</th>\n",
       "      <td>2018-01-02</td>\n",
       "      <td>26.0</td>\n",
       "      <td>14.0</td>\n",
       "      <td>59.0</td>\n",
       "      <td>21.0</td>\n",
       "      <td>0.00</td>\n",
       "      <td>36</td>\n",
       "      <td>1</td>\n",
       "      <td>1</td>\n",
       "    </tr>\n",
       "    <tr>\n",
       "      <th>2</th>\n",
       "      <td>2018-01-03</td>\n",
       "      <td>30.0</td>\n",
       "      <td>18.0</td>\n",
       "      <td>53.0</td>\n",
       "      <td>16.0</td>\n",
       "      <td>0.00</td>\n",
       "      <td>36</td>\n",
       "      <td>2</td>\n",
       "      <td>1</td>\n",
       "    </tr>\n",
       "    <tr>\n",
       "      <th>3</th>\n",
       "      <td>2018-01-04</td>\n",
       "      <td>29.0</td>\n",
       "      <td>20.0</td>\n",
       "      <td>92.0</td>\n",
       "      <td>37.0</td>\n",
       "      <td>0.02</td>\n",
       "      <td>14</td>\n",
       "      <td>3</td>\n",
       "      <td>1</td>\n",
       "    </tr>\n",
       "    <tr>\n",
       "      <th>4</th>\n",
       "      <td>2018-01-05</td>\n",
       "      <td>19.0</td>\n",
       "      <td>11.0</td>\n",
       "      <td>56.0</td>\n",
       "      <td>31.0</td>\n",
       "      <td>6.54</td>\n",
       "      <td>18</td>\n",
       "      <td>4</td>\n",
       "      <td>1</td>\n",
       "    </tr>\n",
       "  </tbody>\n",
       "</table>\n",
       "</div>"
      ],
      "text/plain": [
       "         day  high_temp  low_temp  humidity  wind_speed  precip  \\\n",
       "0 2018-01-01       19.0       8.0      67.0        22.0    0.00   \n",
       "1 2018-01-02       26.0      14.0      59.0        21.0    0.00   \n",
       "2 2018-01-03       30.0      18.0      53.0        16.0    0.00   \n",
       "3 2018-01-04       29.0      20.0      92.0        37.0    0.02   \n",
       "4 2018-01-05       19.0      11.0      56.0        31.0    6.54   \n",
       "\n",
       "   rat_sightings  dow  month_num  \n",
       "0             15    0          1  \n",
       "1             36    1          1  \n",
       "2             36    2          1  \n",
       "3             14    3          1  \n",
       "4             18    4          1  "
      ]
     },
     "execution_count": 12,
     "metadata": {},
     "output_type": "execute_result"
    }
   ],
   "source": [
    "rats_weather[\"day\"] = pd.to_datetime(rats_weather[\"day\"], format='%m/%d/%y')\n",
    "rats_weather[\"dow\"] = rats_weather[\"day\"].dt.dayofweek    #A\n",
    "rats_weather[\"month_num\"] = rats_weather[\"day\"].dt.month    #B\n",
    "rats_weather.head()    #C\n",
    "\n",
    "#A Add a column with the day of the week number (from 0 to 6) starting with Monday\n",
    "#B Add a column with the month number (from 1 through 12) in a calendar year \n",
    "#C Display the first 5 rows of the dataset"
   ]
  },
  {
   "cell_type": "code",
   "execution_count": null,
   "id": "f7f08861-7817-4158-a631-0088e1ed5563",
   "metadata": {},
   "outputs": [],
   "source": [
    "import seaborn as sns    #A\n",
    "sns.boxplot(data=rats_weather, x=\"month_number\", y=\"rat_sightings\")    #B\n",
    "\n",
    "#A Import seaborn library\n",
    "#B Create boxplots to visualize the distributions of rat sightings by month number"
   ]
  },
  {
   "cell_type": "code",
   "execution_count": null,
   "id": "89446ffb-86e1-4d55-ae98-225e304b89d2",
   "metadata": {},
   "outputs": [],
   "source": [
    "sns.boxplot(data=rats_weather, x=\"dow\", y=\"rat_sightings\")    #A\n",
    "\n",
    "#A Create boxplots to visualize the distributions of rat sightings by month number"
   ]
  },
  {
   "cell_type": "code",
   "execution_count": null,
   "id": "7383d4c2-9815-4227-85a5-697624e32a81",
   "metadata": {},
   "outputs": [],
   "source": [
    "rats_weather[\"weekday\"] = (rats_weather[\"dow\"]<5).astype(int)    #A\n",
    "rats_weather[\n",
    "    [\"high_temp\", \"wind_speed\", \"weekday\", \"rat_sightings\"]\n",
    "].corr()    #B\n",
    "\n",
    "#A Convert the day of the week into a binary weekday column\n",
    "#B Recalculate correlations with the new dummy variable"
   ]
  },
  {
   "cell_type": "code",
   "execution_count": null,
   "id": "1e97bfdf-c084-48d7-b4ae-24e5938cf763",
   "metadata": {},
   "outputs": [],
   "source": [
    "sns.pairplot(\n",
    "    rats_weather[[\"high_temp\", \"wind_speed\", \"weekday\", \"rat_sightings\"]]\n",
    ")  # A\n",
    "\n",
    "#A Generate a pairplot of all relevant variables in the dataframe"
   ]
  },
  {
   "cell_type": "code",
   "execution_count": null,
   "id": "daadc5d7-08a1-415d-8676-e192ccca2e33",
   "metadata": {},
   "outputs": [],
   "source": [
    "import numpy as np    #A\n",
    "\n",
    "rats_weather[\"wind_speed_sq\"] = rats_weather[\"wind_speed \"]**2\n",
    "rats_weather[\"wind_speed_sqrt\"] = np.sqrt(rats_weather[\"wind_speed\"])    #B\n",
    "\n",
    "rats_weather[\n",
    "    [\"wind_speed_sq\", \" wind_speed_sqrt\", \"wind_speed\", \"rat_sightings\"]\n",
    "].corr()   #C\n",
    "\n",
    "#A Import the numpy library\n",
    "#B Create new columns with the square and square root of the wind speed column \n",
    "#C Compare Pearson's correlations"
   ]
  },
  {
   "cell_type": "markdown",
   "id": "537ff010-a640-4c2c-a936-e96d21f14902",
   "metadata": {},
   "source": [
    "## 9.2.2"
   ]
  },
  {
   "cell_type": "code",
   "execution_count": null,
   "id": "37676098-6af0-4b24-88c2-31b13d50a8fd",
   "metadata": {},
   "outputs": [],
   "source": [
    "X = rats_weather[[\"high_temp\", \"wind_speed\", \"weekday\"]]\n",
    "y = rats_weather[\"rat_sightings\"]    #A\n",
    "X = sm.add_constant(X)    #B\n",
    "\n",
    "model = sm.OLS(y, X).fit()    #C\n",
    "print(model.summary()) \n",
    "\n",
    "#A Create an X and y variable for the predictors and outcome, respectively\n",
    "#B Add a constant to represent the y-intercept\n",
    "#C Print the model results"
   ]
  },
  {
   "cell_type": "code",
   "execution_count": null,
   "id": "44ccd419-995e-44d2-a9d9-51933fb6dd47",
   "metadata": {},
   "outputs": [],
   "source": [
    "rats_weather[\"residuals\"] = model.resid\n",
    "rats_weather[\"predicted_values\"] = model.predict()    #A\n",
    "\n",
    "plt.scatter(\n",
    "    rats_weather[\"predicted_values\"],\n",
    "    rats_weather[\"residuals\"], color=\"gray\", s=5\n",
    ")    #B\n",
    "plt.axhline(y=0, color=\"black\", linestyle=\"-\")    #C\n",
    "\n",
    "#A Save the residuals and predicted values as new columns in rats_weather\n",
    "#B Create a scatterplot of the predicted values against the residuals\n",
    "#C Add a horizontal line at 0 to display the residuals centered around 0"
   ]
  },
  {
   "cell_type": "code",
   "execution_count": null,
   "id": "ff1b4145-8da3-406d-b93a-dd52856a36eb",
   "metadata": {},
   "outputs": [],
   "source": [
    "rats_weather[rats_weather[\"predicted_values\"]<10]    #A\n",
    "\n",
    "#A Filter the dataset to display only records with low predicted values"
   ]
  },
  {
   "cell_type": "code",
   "execution_count": null,
   "id": "0c6e85e2-1d91-4c05-9280-0ce4b6bdf4e7",
   "metadata": {},
   "outputs": [],
   "source": [
    "rats_weather = rats_weather[rats_weather[\"high_temp\"]!=0]    #A\n",
    "\n",
    "#A Remove the row with incorrect weather data"
   ]
  },
  {
   "cell_type": "code",
   "execution_count": null,
   "id": "a02e9414-bfd9-48a4-86b6-4627c91bebf2",
   "metadata": {},
   "outputs": [],
   "source": [
    "X = rats_weather[[\"high_temp\", \"wind_speed\", \"weekday\"]]\n",
    "y = np.sqrt(rats_weather[\"rat_sightings\"])    #A\n",
    "X = sm.add_constant(X)\n",
    "\n",
    "model = sm.OLS(y, X).fit()\n",
    "print(model.summary())    #B\n",
    "\n",
    "#A Take the square root of the number of rat sightings as the new y-variable\n",
    "#B Fit the model again and show the results"
   ]
  },
  {
   "cell_type": "markdown",
   "id": "8a665319-b813-414e-86a5-469f55a9c0ae",
   "metadata": {},
   "source": [
    "# 9.3"
   ]
  },
  {
   "cell_type": "code",
   "execution_count": null,
   "id": "13899859-23bd-46e3-a383-d46baf1657ec",
   "metadata": {},
   "outputs": [],
   "source": [
    "rats_weather[\"high_precip\"] = (\n",
    "rats_weather[\"precip\"] > 0.1\n",
    ").astype(int)    #A\n",
    "\n",
    "rats_weather[\n",
    "    [\"high_temp\", \"wind_speed\", \"weekday\", \"high_precip\", \"rat_sightings\"]\n",
    "].corr()    #B\n",
    "\n",
    "#A Create a Boolean column indicating whether precipitation is higher than 0.1 inches\n",
    "#B Re-examine correlations"
   ]
  },
  {
   "cell_type": "code",
   "execution_count": null,
   "id": "f09f997d-0e86-49e3-b993-e6ccddace63d",
   "metadata": {},
   "outputs": [],
   "source": [
    "from sklearn.model_selection import train_test_split\n",
    "from sklearn.metrics import mean_squared_error\n",
    "from sklearn.linear_model import LinearRegression    #A\n",
    "\n",
    "X = rats_weather[[\"high_temp\", \"wind_speed\", \"weekday\"]]\n",
    "y = np.sqrt(rats_weather[\"rat_sightings\"])    #B\n",
    "\n",
    "X_train, X_test, y_train, y_test = train_test_split(\n",
    "    X, y, test_size=0.2, random_state=99\n",
    ")    #C\n",
    "\n",
    "model = LinearRegression()\n",
    "model.fit(X_train, y_train)    #D\n",
    "\n",
    "#A Import libraries\n",
    "#B Split the data into its X and y variables\n",
    "#C Randomly split the X and y data into a training and test set, with 80% of data for training\n",
    "#D Fit the linear regression model to the training data"
   ]
  },
  {
   "cell_type": "code",
   "execution_count": null,
   "id": "d1d353b6-3bfb-4f1d-9c7a-07642bcaf3d7",
   "metadata": {},
   "outputs": [],
   "source": [
    "from sklearn.metrics import mean_squared_error    #A\n",
    "\n",
    "y_pred_train = model.predict(X_train)\n",
    "y_pred = model.predict(X_test)    #B\n",
    "\n",
    "r2_train = model.score(X_train, y_train) \n",
    "r2_test = model.score(X_test, y_test)    #C\n",
    "\n",
    "rmse_train = np.sqrt(mean_squared_error(y_train, y_pred_train))\n",
    "rmse_test = np.sqrt(mean_squared_error(y_test, y_pred))    #D\n",
    "\n",
    "print(f\"Training Set RMSE: {rmse_train}\")\n",
    "print(f\"Test Set RMSE: {rmse_test}\")\n",
    "print(f\"Training Set R-squared: {r2_train}\")\n",
    "print(f\"Test Set R-squared: {r2_test}\")\n",
    "\n",
    "#A Import mean squared error evaluation metric\n",
    "#B Generate rat sighting predictions based on the X training and test set inputs\n",
    "#C Calculate the R2 value for both the training and the test set\n",
    "#D Calculate the mean squared error (MSE) and root mean squared error (RMSE) for the predictions"
   ]
  }
 ],
 "metadata": {
  "kernelspec": {
   "display_name": "Python 3 (ipykernel)",
   "language": "python",
   "name": "python3"
  },
  "language_info": {
   "codemirror_mode": {
    "name": "ipython",
    "version": 3
   },
   "file_extension": ".py",
   "mimetype": "text/x-python",
   "name": "python",
   "nbconvert_exporter": "python",
   "pygments_lexer": "ipython3",
   "version": "3.10.6"
  }
 },
 "nbformat": 4,
 "nbformat_minor": 5
}
