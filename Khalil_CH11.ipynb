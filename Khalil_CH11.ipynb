{
 "cells": [
  {
   "cell_type": "markdown",
   "id": "f2736653-8b65-43f2-a46d-c511ca2b595a",
   "metadata": {},
   "source": [
    "# Chapter 11"
   ]
  },
  {
   "cell_type": "markdown",
   "id": "c06703e7-dd63-4a39-a29b-70d78193002e",
   "metadata": {
    "tags": []
   },
   "source": [
    "## 11.2.2"
   ]
  },
  {
   "cell_type": "code",
   "execution_count": null,
   "id": "3ddc596e-24f3-4bfa-ada0-47d3263f1d3f",
   "metadata": {},
   "outputs": [],
   "source": [
    "import numpy as np\n",
    "import pandas as pd\n",
    "import pytest    #A\n",
    "\n",
    "daily_forecast = pd.read_csv(\"daily_forecast.csv\")    #B\n",
    "\n",
    "def test_unique_rows():    #C\n",
    "    exp_days = [datetime.now().date() + timedelta(days=i) for i in range(7)]\n",
    "    assert exp_days == daily_forecast[\"date\"].tolist(), \"Dates mismatch.\"\n",
    "\n",
    "def test_humidity_range():\n",
    "    assert np.all(\n",
    "        (daily_forecast[\"humidity\"] >= 0)\n",
    "        & (daily_forecast[\"humidity\"] <= 100)\n",
    "    ), \"Humidity out of range.\"\n",
    "\n",
    "def test_wind_speed_positive():\n",
    "    assert np.all(\n",
    "        daily_forecast[\"wind_speed\"] >= 0\n",
    "    ), \"Negative wind speed found.\"\n",
    "\n",
    "def test_no_missing_values():\n",
    "    assert (\n",
    "        not daily_forecast.isnull().values.any()\n",
    "    ), \"Missing values present.\"\n",
    "\n",
    "test_unique_rows()    #D\n",
    "test_humidity_range()\n",
    "test_wind_speed_positive()\n",
    "test_no_missing_values()\n",
    "\n",
    "print(\"Tests passed.\")    #E\n",
    "#A Import the numpy, pandas, and pytest libraries\n",
    "#B Import the 7-day forecast dataframe. \n",
    "#C Create a function that asserts whether the criteria are true and prints which criteria are false.\n",
    "#D Run each function for a named dataframe in the current environment.\n",
    "#E If all tests pass, print a success message."
   ]
  }
 ],
 "metadata": {
  "kernelspec": {
   "display_name": "Python 3 (ipykernel)",
   "language": "python",
   "name": "python3"
  },
  "language_info": {
   "codemirror_mode": {
    "name": "ipython",
    "version": 3
   },
   "file_extension": ".py",
   "mimetype": "text/x-python",
   "name": "python",
   "nbconvert_exporter": "python",
   "pygments_lexer": "ipython3",
   "version": "3.10.6"
  }
 },
 "nbformat": 4,
 "nbformat_minor": 5
}
