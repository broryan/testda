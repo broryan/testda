{
 "cells": [
  {
   "cell_type": "markdown",
   "id": "f2736653-8b65-43f2-a46d-c511ca2b595a",
   "metadata": {},
   "source": [
    "# Chapter 7"
   ]
  },
  {
   "cell_type": "markdown",
   "id": "c06703e7-dd63-4a39-a29b-70d78193002e",
   "metadata": {},
   "source": [
    "## 7.2.1"
   ]
  },
  {
   "cell_type": "code",
   "execution_count": null,
   "id": "3ddc596e-24f3-4bfa-ada0-47d3263f1d3f",
   "metadata": {},
   "outputs": [],
   "source": [
    "import pandas as pd\n",
    "import matplotlib.pyplot as plt\n",
    "import seaborn as sns    #A\n",
    "\n",
    "logins = pd.read_csv(\"customer_logins.csv\")    #B\n",
    "print(logins.head())    #C\n",
    "\n",
    "#A Import pandas and seaborn libraries\n",
    "#B Read the customer activity metric dataset\n",
    "#C Print the first five rows of the dataset"
   ]
  },
  {
   "cell_type": "code",
   "execution_count": null,
   "id": "24dea15c-4098-4d4a-b095-6797b024a08f",
   "metadata": {},
   "outputs": [],
   "source": [
    "logins[\"n_days\"] = pd.DatetimeIndex(logins[\"month\"]).days_in_month    #A\n",
    "logins[\"login_days_pct\"] = logins[\"login_days\"]/logins[\"n_days\"]    #B\n",
    "\n",
    "sns.histplot(x=logins[\"login_days_pct\"], bins=32)    #C\n",
    "plt.title(\"Distribution of the % of Days Active Per Month & Customer\")\n",
    "plt.xlabel(\"% of Days Active\")\n",
    "plt.ylabel(\"# of Records\");"
   ]
  },
  {
   "cell_type": "code",
   "execution_count": null,
   "id": "cb868fa6-bf54-43b1-b807-9e19775838cf",
   "metadata": {},
   "outputs": [],
   "source": [
    "low_pct = logins[(logins[\"login_days_pct\"] < .2)]    #A\n",
    "low_ct = low_pct.groupby(\"customer_id\").size().reset_index(name=\"ct\")    #B\n",
    "print(low_ct.sort_values(by=\"ct\", ascending=False).head())    #C\n",
    "\n",
    "#A Filter to records with low activity months\n",
    "#B Group by customers and count\n",
    "#C Print top 5 customers with low activity months"
   ]
  },
  {
   "cell_type": "code",
   "execution_count": null,
   "id": "a69fb87b-95b0-4808-9906-55d02a4de671",
   "metadata": {},
   "outputs": [],
   "source": [
    "sns.histplot(x=logins[\"login_days\"], hue=logins[\"region\"], bins=31)   #A\n",
    "\n",
    "#A Update the histogram with a breakout by region"
   ]
  },
  {
   "cell_type": "code",
   "execution_count": null,
   "id": "dc004934-c713-4030-a745-b784b78e5c3c",
   "metadata": {},
   "outputs": [],
   "source": [
    "avg_logins = (  #A\n",
    "    logins.groupby([\"month\", \"region\"])[\"login_days_pct\"].mean().reset_index()\n",
    ")\n",
    "\n",
    "sns.lineplot(x=\"month\",    #B\n",
    "y=\"login_days_pct \", \n",
    "hue= \"region\", \n",
    "data=avg_logins)\n",
    "plt.xlabel(\"Month\")\n",
    "plt.ylabel(\"Avg. % Days Active\")\n",
    "plt.title(\"Average % of Monthly Active Days Over Time\")\n",
    "\n",
    "#A Calculate the average monthly logins by region\n",
    "#B Plot the average monthly logins over time"
   ]
  },
  {
   "cell_type": "code",
   "execution_count": null,
   "id": "42f5944f-2ead-4853-a916-5f16c04e5bc1",
   "metadata": {},
   "outputs": [],
   "source": [
    "import calendar\n",
    "logins['month'] = (    #A\n",
    "     logins['n_month'].apply(lambda x: calendar.month_name[x])\n",
    ")\n",
    "\n",
    "avg_logins_m = (    #B\n",
    "     logins.groupby([\"year\",\n",
    "     \"month\"])[\"login_days_pct\"].mean().reset_index()\n",
    ")\n",
    "\n",
    "sns.lineplot(    #C\n",
    "     x=\"n_month\", \n",
    "     y=\"login_days_pct\", \n",
    "     hue= \"year\", \n",
    "     data=avg_logins_m\n",
    ")\n",
    "plt.xticks(rotation=45)\n",
    "plt.xlabel(\"Month Number\")\n",
    "plt.title(\"Average % of Monthly Active by Month and Year\")\n",
    "\n",
    "#A Save the month name as a new column\n",
    "#B Calculate the average logins by month number and year\n",
    "#C Plot the average logins by month number and year"
   ]
  }
 ],
 "metadata": {
  "kernelspec": {
   "display_name": "Python 3 (ipykernel)",
   "language": "python",
   "name": "python3"
  },
  "language_info": {
   "codemirror_mode": {
    "name": "ipython",
    "version": 3
   },
   "file_extension": ".py",
   "mimetype": "text/x-python",
   "name": "python",
   "nbconvert_exporter": "python",
   "pygments_lexer": "ipython3",
   "version": "3.10.6"
  }
 },
 "nbformat": 4,
 "nbformat_minor": 5
}
