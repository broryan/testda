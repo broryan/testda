{
 "cells": [
  {
   "cell_type": "markdown",
   "id": "f2736653-8b65-43f2-a46d-c511ca2b595a",
   "metadata": {},
   "source": [
    "# Chapter 8"
   ]
  },
  {
   "cell_type": "markdown",
   "id": "c06703e7-dd63-4a39-a29b-70d78193002e",
   "metadata": {},
   "source": [
    "## 8.3.2"
   ]
  },
  {
   "cell_type": "code",
   "execution_count": 1,
   "id": "3ddc596e-24f3-4bfa-ada0-47d3263f1d3f",
   "metadata": {},
   "outputs": [
    {
     "data": {
      "text/html": [
       "<div>\n",
       "<style scoped>\n",
       "    .dataframe tbody tr th:only-of-type {\n",
       "        vertical-align: middle;\n",
       "    }\n",
       "\n",
       "    .dataframe tbody tr th {\n",
       "        vertical-align: top;\n",
       "    }\n",
       "\n",
       "    .dataframe thead th {\n",
       "        text-align: right;\n",
       "    }\n",
       "</style>\n",
       "<table border=\"1\" class=\"dataframe\">\n",
       "  <thead>\n",
       "    <tr style=\"text-align: right;\">\n",
       "      <th></th>\n",
       "      <th>transaction_id</th>\n",
       "      <th>name</th>\n",
       "      <th>email</th>\n",
       "      <th>phone</th>\n",
       "      <th>address</th>\n",
       "      <th>purchased_item</th>\n",
       "      <th>price</th>\n",
       "    </tr>\n",
       "  </thead>\n",
       "  <tbody>\n",
       "    <tr>\n",
       "      <th>0</th>\n",
       "      <td>t-834207</td>\n",
       "      <td>Keith White</td>\n",
       "      <td>keith.white@example.com</td>\n",
       "      <td>001-490-356-3466x219</td>\n",
       "      <td>PSC 7000, Box 0663, APO AP 61947</td>\n",
       "      <td>Cool tablet</td>\n",
       "      <td>627</td>\n",
       "    </tr>\n",
       "    <tr>\n",
       "      <th>1</th>\n",
       "      <td>t-194507</td>\n",
       "      <td>Nicole Weaver</td>\n",
       "      <td>nicole.weaver@example.com</td>\n",
       "      <td>(581)642-5743</td>\n",
       "      <td>Unit 3524 Box 6820, DPO AE 31360</td>\n",
       "      <td>Retro mobile phone</td>\n",
       "      <td>584</td>\n",
       "    </tr>\n",
       "    <tr>\n",
       "      <th>2</th>\n",
       "      <td>t-310414</td>\n",
       "      <td>Joseph Perez</td>\n",
       "      <td>joseph.perez@example.com</td>\n",
       "      <td>297.447.3481</td>\n",
       "      <td>50270 Graham Alley, Lake Brittany, NH 15851</td>\n",
       "      <td>Yet another laptop</td>\n",
       "      <td>405</td>\n",
       "    </tr>\n",
       "    <tr>\n",
       "      <th>3</th>\n",
       "      <td>t-947522</td>\n",
       "      <td>Cheryl Salinas</td>\n",
       "      <td>cheryl.salinas@example.com</td>\n",
       "      <td>945.248.4798x675</td>\n",
       "      <td>51407 Jones Drive Suite 478, Wattsstad, CA 53037</td>\n",
       "      <td>Cool tablet</td>\n",
       "      <td>537</td>\n",
       "    </tr>\n",
       "    <tr>\n",
       "      <th>4</th>\n",
       "      <td>t-156647</td>\n",
       "      <td>Monica Foster</td>\n",
       "      <td>monica.foster@example.com</td>\n",
       "      <td>(738)712-8058x1408</td>\n",
       "      <td>81902 Roberts Route Suite 280, Port Andrewmout...</td>\n",
       "      <td>Retro mobile phone</td>\n",
       "      <td>943</td>\n",
       "    </tr>\n",
       "  </tbody>\n",
       "</table>\n",
       "</div>"
      ],
      "text/plain": [
       "  transaction_id            name                       email  \\\n",
       "0       t-834207     Keith White     keith.white@example.com   \n",
       "1       t-194507   Nicole Weaver   nicole.weaver@example.com   \n",
       "2       t-310414    Joseph Perez    joseph.perez@example.com   \n",
       "3       t-947522  Cheryl Salinas  cheryl.salinas@example.com   \n",
       "4       t-156647   Monica Foster   monica.foster@example.com   \n",
       "\n",
       "                 phone                                             address  \\\n",
       "0  001-490-356-3466x219                   PSC 7000, Box 0663, APO AP 61947   \n",
       "1         (581)642-5743                   Unit 3524 Box 6820, DPO AE 31360   \n",
       "2          297.447.3481        50270 Graham Alley, Lake Brittany, NH 15851   \n",
       "3      945.248.4798x675   51407 Jones Drive Suite 478, Wattsstad, CA 53037   \n",
       "4    (738)712-8058x1408  81902 Roberts Route Suite 280, Port Andrewmout...   \n",
       "\n",
       "       purchased_item  price  \n",
       "0         Cool tablet    627  \n",
       "1  Retro mobile phone    584  \n",
       "2  Yet another laptop    405  \n",
       "3         Cool tablet    537  \n",
       "4  Retro mobile phone    943  "
      ]
     },
     "execution_count": 1,
     "metadata": {},
     "output_type": "execute_result"
    }
   ],
   "source": [
    "import pandas as pd   #A\n",
    "\n",
    "transactions = pd.read_csv(\"transactions.csv\")    #B\n",
    "transactions.head()\n",
    "\n",
    "#A Import the pandas library\n",
    "#B Import the transactions dataset and display the first 5 rows\n"
   ]
  },
  {
   "cell_type": "code",
   "execution_count": null,
   "id": "04c2d7ae-62d7-4a50-8102-eab4f8daabef",
   "metadata": {},
   "outputs": [],
   "source": [
    "!pip install usaddress   #A\n",
    "#A Install usaddress library"
   ]
  },
  {
   "cell_type": "code",
   "execution_count": null,
   "id": "624be31c-cd4a-4db2-bc18-ee81a498b3a8",
   "metadata": {},
   "outputs": [],
   "source": [
    "import usaddress    #A\n",
    "\n",
    "def parse_addresses(address):    #B\n",
    "    try:    #C\n",
    "        parsed = usaddress.parse(address)\n",
    "        parsed_dict = {item[1]: item[0] for item in parsed}\n",
    "        city = parsed_dict.get(\"PlaceName\", \"\")    #D\n",
    "        state = parsed_dict.get(\"StateName\", \"\")\n",
    "        zip_code = parsed_dict.get(\"ZipCode\", \"\")\n",
    "        return city, state, zip_code\n",
    "    except:\n",
    "        return\"  \",\"\" #E\n",
    "\n",
    "transactions[\"city\"], transactions[\"state\"], transactions[\"zip_code\"] = zip(\n",
    "    *transactions[\"address\"].apply(parse_addresses)\n",
    ")    #F\n",
    "\n",
    "transactions.head()    #G\n",
    "\n",
    "#A Import usaddress library\n",
    "#B Create a function to parse the address column\n",
    "#C Add error handling in case addresses cannot be parsed (a common issue)\n",
    "#D Extract individual geographical data points of interest from the parsed dictionary\n",
    "#E If an address cannot be parsed, return an empty string\n",
    "#F Create 3 new columns with city, state, and zip code by applying the function to the address\n",
    "#G Display the first 5 rows"
   ]
  },
  {
   "cell_type": "code",
   "execution_count": null,
   "id": "6d30dace-4663-497a-841c-b6b196305c65",
   "metadata": {},
   "outputs": [],
   "source": [
    "transactions.drop([\"name\", \"phone\"], axis=1, inplace=True)    #A\n",
    "#A Drop the address column"
   ]
  },
  {
   "cell_type": "code",
   "execution_count": null,
   "id": "d0c2ce0e-a8e7-45f9-a35d-99da096a0a56",
   "metadata": {},
   "outputs": [],
   "source": [
    "import hashlib    #A\n",
    "\n",
    "def hash_email(email):    #B\n",
    "    return hashlib.sha256(email.encode()).hexdigest()\n",
    "\n",
    "transactions[\"email_hash\"] = transactions[\"email\"].apply(hash_email)    #C\n",
    "\n",
    "transactions.head()    #D\n",
    "#A Import the hashlib library\n",
    "#B Write a function to hash the email column's values \n",
    "#C Apply the function to a new column\n",
    "#D Display the first 5 rows"
   ]
  },
  {
   "cell_type": "code",
   "execution_count": null,
   "id": "299b85c2-3638-4e3c-864a-0e2c6a3272f1",
   "metadata": {},
   "outputs": [],
   "source": [
    "emails = transactions[[\"email\", \"email_hash\"]]    #A\n",
    "transactions.drop([\"email\"], axis=1, inplace=True)    #B\n",
    "transactions.head()    #C\n",
    "\n",
    "#A Save the email and its hash in a separate dataframe\n",
    "#B Drop the email column from transactions\n",
    "#C Display the first 5 rows of transactions"
   ]
  },
  {
   "cell_type": "code",
   "execution_count": null,
   "id": "dcf2172f-5a98-4f13-adb4-eb5d009db320",
   "metadata": {},
   "outputs": [],
   "source": []
  }
 ],
 "metadata": {
  "kernelspec": {
   "display_name": "Python 3 (ipykernel)",
   "language": "python",
   "name": "python3"
  },
  "language_info": {
   "codemirror_mode": {
    "name": "ipython",
    "version": 3
   },
   "file_extension": ".py",
   "mimetype": "text/x-python",
   "name": "python",
   "nbconvert_exporter": "python",
   "pygments_lexer": "ipython3",
   "version": "3.10.6"
  }
 },
 "nbformat": 4,
 "nbformat_minor": 5
}
