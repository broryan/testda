{
 "cells": [
  {
   "cell_type": "markdown",
   "id": "f2736653-8b65-43f2-a46d-c511ca2b595a",
   "metadata": {},
   "source": [
    "# Chapter 6"
   ]
  },
  {
   "cell_type": "markdown",
   "id": "c06703e7-dd63-4a39-a29b-70d78193002e",
   "metadata": {},
   "source": [
    "## 6.3.1"
   ]
  },
  {
   "cell_type": "code",
   "execution_count": 1,
   "id": "3ddc596e-24f3-4bfa-ada0-47d3263f1d3f",
   "metadata": {},
   "outputs": [
    {
     "name": "stdout",
     "output_type": "stream",
     "text": [
      "            high_temp  low_temp  humidity  wind_speed    precip\n",
      "high_temp    1.000000  0.962917  0.151777   -0.231311 -0.036839\n",
      "low_temp     0.962917  1.000000  0.177102   -0.260153 -0.026765\n",
      "humidity     0.151777  0.177102  1.000000    0.029353  0.233285\n",
      "wind_speed  -0.231311 -0.260153  0.029353    1.000000  0.212698\n",
      "precip      -0.036839 -0.026765  0.233285    0.212698  1.000000\n"
     ]
    }
   ],
   "source": [
    "import pandas as pd    #A\n",
    "import numpy as np\n",
    "\n",
    "weather = pd.read_csv(\"weather.csv\")    #B\n",
    "weather_corr = weather.corr()    #C\n",
    "print(weather_corr)\n",
    "\n",
    "#A Import libraries\n",
    "#B Import weather data as a dataframe\n",
    "#C Calculate correlations between all variables"
   ]
  },
  {
   "cell_type": "code",
   "execution_count": 2,
   "id": "e1455af5-665b-4640-8a55-6fc2e649efd0",
   "metadata": {},
   "outputs": [
    {
     "name": "stdout",
     "output_type": "stream",
     "text": [
      "(0.5446867046720659, array([0.501, 0.586]))\n"
     ]
    }
   ],
   "source": [
    "import pingouin as pg    #A\n",
    "\n",
    "cr_alpha = pg.cronbach_alpha(data=weather.drop('day', axis=1))    #B\n",
    "print(cr_alpha)    #C\n",
    "\n",
    "#A Import pingouin library\n",
    "#B Calculate the Cronbach’s alpha\n",
    "#C Print the results  "
   ]
  }
 ],
 "metadata": {
  "kernelspec": {
   "display_name": "Python 3 (ipykernel)",
   "language": "python",
   "name": "python3"
  },
  "language_info": {
   "codemirror_mode": {
    "name": "ipython",
    "version": 3
   },
   "file_extension": ".py",
   "mimetype": "text/x-python",
   "name": "python",
   "nbconvert_exporter": "python",
   "pygments_lexer": "ipython3",
   "version": "3.10.6"
  }
 },
 "nbformat": 4,
 "nbformat_minor": 5
}
